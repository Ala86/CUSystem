{
  "nbformat": 4,
  "nbformat_minor": 0,
  "metadata": {
    "colab": {
      "provenance": [],
      "authorship_tag": "ABX9TyN78X9rXS2h+29lgOJFED8e",
      "include_colab_link": true
    },
    "kernelspec": {
      "name": "python3",
      "display_name": "Python 3"
    },
    "language_info": {
      "name": "python"
    }
  },
  "cells": [
    {
      "cell_type": "markdown",
      "metadata": {
        "id": "view-in-github",
        "colab_type": "text"
      },
      "source": [
        "<a href=\"https://colab.research.google.com/github/Ala86/CUSystem/blob/main/MLE_with_Binomial_Distribution.ipynb\" target=\"_parent\"><img src=\"https://colab.research.google.com/assets/colab-badge.svg\" alt=\"Open In Colab\"/></a>"
      ]
    },
    {
      "cell_type": "code",
      "execution_count": 4,
      "metadata": {
        "colab": {
          "base_uri": "https://localhost:8080/"
        },
        "id": "lLbTr6HH2LJf",
        "outputId": "cae2654d-4322-4fe9-8f03-f56e488cfc6a"
      },
      "outputs": [
        {
          "output_type": "stream",
          "name": "stdout",
          "text": [
            "Estimated p (MLE): 0.7499999946214019\n"
          ]
        }
      ],
      "source": [
        "import numpy as np\n",
        "from scipy.optimize import minimize\n",
        "\n",
        "# Step 1: Define the likelihood function for the binomial distribution\n",
        "def binomial_log_likelihood(p, k, n):\n",
        "    if p <= 0 or p >= 1:  # Log-likelihood is not defined for p <= 0 or p >= 1\n",
        "        return -np.inf\n",
        "    return k * np.log(p) + (n - k) * np.log(1 - p)\n",
        "\n",
        "# Example data: Number of trials (n) and number of successes (k)\n",
        "n = 100  # Number of trials\n",
        "k = 75   # Number of successes\n",
        "\n",
        "# Step 2: Use a minimization function to maximize the log-likelihood\n",
        "# We minimize the negative log-likelihood since minimization is easier to implement\n",
        "result = minimize(\n",
        "    lambda p: -binomial_log_likelihood(p[0], k, n),  # Negative log-likelihood\n",
        "    x0=[0.5],                                       # Initial guess for p\n",
        "    bounds=[(0.001, 0.999)]                         # Bounds for p\n",
        ")\n",
        "\n",
        "# Estimated value of p (MLE)\n",
        "if result.success:\n",
        "    p_mle = result.x[0]\n",
        "    print(f\"Estimated p (MLE): {p_mle}\")\n",
        "else:\n",
        "    print(\"Optimization failed.\")\n"
      ]
    }
  ]
}